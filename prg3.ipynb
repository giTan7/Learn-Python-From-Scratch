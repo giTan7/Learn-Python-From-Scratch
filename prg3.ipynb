{
 "cells": [
  {
   "cell_type": "code",
   "execution_count": 6,
   "metadata": {},
   "outputs": [
    {
     "name": "stdout",
     "output_type": "stream",
     "text": [
      "list is : [1, 5, 7, 8, 9]\n",
      "second value: 5\n",
      "length of the list: 5\n",
      "slicing the list: [5, 7, 8]\n",
      "the values are: 1\n",
      "the values are: 5\n",
      "the values are: 7\n",
      "the values are: 8\n",
      "the values are: 9\n",
      "updated list: [1, 5, 21, 8, 9]\n"
     ]
    }
   ],
   "source": [
    "#list\n",
    "list1=[1,5,7,8,9]\n",
    "print(\"list is :\" ,list1)\n",
    "print(\"second value:\",list1[1])\n",
    "print(\"length of the list:\",len(list1))\n",
    "print(\"slicing the list:\",list1[1:4])\n",
    "\n",
    "for x in list1:\n",
    "    print(\"the values are:\",x)\n",
    "\n",
    "#updating the list\n",
    "list1[2]=21\n",
    "print(\"updated list:\", list1)"
   ]
  },
  {
   "cell_type": "code",
   "execution_count": 10,
   "metadata": {},
   "outputs": [
    {
     "name": "stdout",
     "output_type": "stream",
     "text": [
      "list after adding element: [1, 5, 78, 3, 5, 7]\n",
      "the length of the list is: 5\n",
      "the length of the list after adding: 6\n",
      "list after adding: [3, 6, 7, 5, 4, 90]\n",
      "type: <class 'list'>\n",
      "appended a list at the end of the list: [3, 6, 7, 5, 4, 90, [103, 65]]\n",
      "type now: <class 'list'>\n",
      "the length of the list after addition: 7\n",
      "list after addition: [1, 4, 7, 8, 5, 5, 6]\n"
     ]
    }
   ],
   "source": [
    "#adding elements at a specific position\n",
    "list1=[1,5,3,5,7]\n",
    "list1.insert(2,78)\n",
    "print(\"list after adding element:\",list1)\n",
    "\n",
    "#adding element at the end\n",
    "list1=[3,6,7,5,4]\n",
    "print(\"the length of the list is:\",len(list1))\n",
    "list1.append(90)\n",
    "print(\"the length of the list after adding:\",len(list1))\n",
    "print(\"list after adding:\",list1)\n",
    "print(\"type:\",type(list1))\n",
    "\n",
    "#adding list inside a list\n",
    "list1.append([103,65]) #appended list so now list type will be of object=>concatenate the two list\n",
    "print(\"appended a list at the end of the list:\",list1)\n",
    "print(\"type now:\",type(list1))\n",
    "\n",
    "#extend fn=>it will open the list and add te elements of the given list\n",
    "list1=[1,4,7,8,5]\n",
    "list1.extend([5,6])\n",
    "print(\"the length of the list after addition:\",len(list1))\n",
    "print(\"list after addition:\",list1)\n"
   ]
  },
  {
   "cell_type": "code",
   "execution_count": 12,
   "metadata": {},
   "outputs": [
    {
     "name": "stdout",
     "output_type": "stream",
     "text": [
      "after deletion: [6, 7, 4, 3, 9, 7]\n",
      "list after removing element: [6, 4, 3, 9, 7]\n"
     ]
    }
   ],
   "source": [
    "#remove element from list through delete and remove methods\n",
    "list1=[1,6,7,4,3,9,7]\n",
    "#delete from the index\n",
    "del list1[0]\n",
    "print(\"after deletion:\",list1)\n",
    "#delete the value from the list\n",
    "list1.remove(7)\n",
    "print(\"list after removing element:\",list1)"
   ]
  },
  {
   "cell_type": "code",
   "execution_count": 13,
   "metadata": {},
   "outputs": [
    {
     "name": "stdout",
     "output_type": "stream",
     "text": [
      "list after removal: [3, 6, 7, 5, 4]\n",
      "removed element: 1\n"
     ]
    }
   ],
   "source": [
    "#removing and return through pop method\n",
    "list1=[1,3,6,7,5,4]\n",
    "var=list1.pop(0)\n",
    "print(\"list after removal:\",list1)\n",
    "print(\"removed element:\",var)"
   ]
  },
  {
   "cell_type": "code",
   "execution_count": 16,
   "metadata": {},
   "outputs": [
    {
     "name": "stdout",
     "output_type": "stream",
     "text": [
      "[1, 5, 3, 7, 5]\n",
      "[1, 3, 5, 5, 7]\n",
      "[7, 5, 5, 3, 1]\n"
     ]
    }
   ],
   "source": [
    "#sorting list\n",
    "list1=[1,5,3,7,5]\n",
    "print(list1)\n",
    "list1.sort()\n",
    "print(list1)\n",
    "list1.sort(reverse=True)\n",
    "print(list1)"
   ]
  },
  {
   "cell_type": "code",
   "execution_count": 18,
   "metadata": {},
   "outputs": [],
   "source": [
    "#list of lists"
   ]
  },
  {
   "cell_type": "code",
   "execution_count": 25,
   "metadata": {},
   "outputs": [
    {
     "name": "stdout",
     "output_type": "stream",
     "text": [
      "[[11, 15, 2, 5], [15, 6, 10], [5, 6, 7, 8], [6, 8, 9, 4]]\n",
      "[15, 6, 10]\n",
      "10\n"
     ]
    }
   ],
   "source": [
    "#creating\n",
    "T=[[11,15,2,5], [15,6,10], [5,6,7,8], [6,8,9,4]]\n",
    "print(T)\n",
    "print(T[1])\n",
    "print(T[1][2])"
   ]
  },
  {
   "cell_type": "code",
   "execution_count": 31,
   "metadata": {
    "scrolled": true
   },
   "outputs": [
    {
     "name": "stdout",
     "output_type": "stream",
     "text": [
      "11 15 2 5 \n",
      "15 6 10 \n",
      "45 6 7 8 \n",
      "76 8 9 4 \n",
      "[[11, 15, 2, 5], [15, 6, 10], [23, 55], [45, 6, 7, 8], [76, 8, 9, 4]]\n"
     ]
    }
   ],
   "source": [
    "#print the entire 2D list\n",
    "T=[[11,15,2,5], [15,6,10], [45,6,7,8], [76,8,9,4]]\n",
    "for r in T:\n",
    "    for c in r:\n",
    "        print(c, end=\" \")\n",
    "    print()\n",
    "    \n",
    "T.insert(2,[23,55])\n",
    "print(T)"
   ]
  },
  {
   "cell_type": "code",
   "execution_count": 1,
   "metadata": {},
   "outputs": [
    {
     "name": "stdout",
     "output_type": "stream",
     "text": [
      "3\n",
      "4\n"
     ]
    }
   ],
   "source": [
    "list1=[\"a\",\"bcd\",\"aba\",\"dbcd\"]\n",
    "for x in list1:\n",
    "    l=len(x)\n",
    "    if l>1 and x[0]==x[-1]:\n",
    "        print(len(x))\n",
    "           "
   ]
  },
  {
   "cell_type": "code",
   "execution_count": null,
   "metadata": {},
   "outputs": [],
   "source": []
  }
 ],
 "metadata": {
  "kernelspec": {
   "display_name": "Python 3",
   "language": "python",
   "name": "python3"
  },
  "language_info": {
   "codemirror_mode": {
    "name": "ipython",
    "version": 3
   },
   "file_extension": ".py",
   "mimetype": "text/x-python",
   "name": "python",
   "nbconvert_exporter": "python",
   "pygments_lexer": "ipython3",
   "version": "3.7.4"
  }
 },
 "nbformat": 4,
 "nbformat_minor": 2
}
