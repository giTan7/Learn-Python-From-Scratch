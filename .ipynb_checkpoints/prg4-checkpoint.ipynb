{
 "cells": [
  {
   "cell_type": "code",
   "execution_count": 4,
   "metadata": {},
   "outputs": [
    {
     "name": "stdout",
     "output_type": "stream",
     "text": [
      "{'st': 'Sachin tendulkar', 'msd': 'mahindra singh dhoni', 'run': 10000}\n",
      "10000\n",
      "st\n",
      "msd\n",
      "run\n",
      "\n",
      "Sachin tendulkar\n",
      "mahindra singh dhoni\n",
      "10000\n",
      "\n",
      "st : Sachin tendulkar\n",
      "msd : mahindra singh dhoni\n",
      "run : 10000\n"
     ]
    }
   ],
   "source": [
    "#dictionary \n",
    "\n",
    "dict1={\n",
    "    \"st\":\"Sachin tendulkar\",\n",
    "    \"msd\":\"mahindra singh dhoni\",\n",
    "    \"run\":10000\n",
    "}\n",
    "print(dict1)\n",
    "print(dict1[\"run\"])\n",
    "\n",
    "for x in dict1:\n",
    "    print(x)\n",
    "print()\n",
    "\n",
    "for x in dict1:\n",
    "    print(dict1[x])\n",
    "print()\n",
    "for x in dict1:\n",
    "    print(x, \":\", dict1[x])"
   ]
  },
  {
   "cell_type": "code",
   "execution_count": 6,
   "metadata": {},
   "outputs": [
    {
     "name": "stdout",
     "output_type": "stream",
     "text": [
      "{'st': 'Sachin tendulkar', 'msd': 'mahindra singh dhoni', 'run': 10000, 'sv': 'sourav ganguly'}\n"
     ]
    }
   ],
   "source": [
    "#insert new element in dict...\n",
    "dict1[\"sv\"]=\"sourav ganguly\"\n",
    "print(dict1)"
   ]
  },
  {
   "cell_type": "code",
   "execution_count": 43,
   "metadata": {},
   "outputs": [
    {
     "name": "stdout",
     "output_type": "stream",
     "text": [
      "{'st': 'Sachin tendulkar', 'msd': 'mahindra singh dhoni', 'run': 34500}\n",
      "3\n",
      "{'st': 'Sachin tendulkar', 'msd': 'mahindra singh dhoni', 'run': 34500}\n",
      "3\n"
     ]
    }
   ],
   "source": [
    "#NOTE: append is not applicable for unordered dsa..\n",
    "#updating value\n",
    "print(dict1)\n",
    "print(len(dict1))\n",
    "\n",
    "dict1[\"run\"]=34500\n",
    "\n",
    "print(dict1)\n",
    "print(len(dict1))\n"
   ]
  },
  {
   "cell_type": "code",
   "execution_count": 13,
   "metadata": {},
   "outputs": [
    {
     "name": "stdout",
     "output_type": "stream",
     "text": [
      "item exists\n"
     ]
    }
   ],
   "source": [
    "#check item exists or not..\n",
    "if \"run\" in dict1:\n",
    "    print(\"item exists\")\n",
    "    "
   ]
  },
  {
   "cell_type": "code",
   "execution_count": 25,
   "metadata": {},
   "outputs": [
    {
     "name": "stdout",
     "output_type": "stream",
     "text": [
      "{'st': 'Sachin tendulkar', 'msd': 'mahindra singh dhoni', 'run': 10000}\n",
      "{'st': 'Sachin tendulkar', 'msd': 'mahindra singh dhoni'}\n",
      "10000\n",
      "{'st': 'Sachin tendulkar'}\n",
      "('msd', 'mahindra singh dhoni')\n"
     ]
    }
   ],
   "source": [
    "dict1={\n",
    "    \"st\":\"Sachin tendulkar\",\n",
    "    \"msd\":\"mahindra singh dhoni\",\n",
    "    \"run\":10000\n",
    "}\n",
    "\n",
    "print(dict1)\n",
    "\n",
    "var=dict1.pop(\"run\")\n",
    "print(dict1)\n",
    "print(var)\n",
    "\n",
    "var1=dict1.popitem()\n",
    "print(dict1)\n",
    "print(var1)"
   ]
  },
  {
   "cell_type": "code",
   "execution_count": 61,
   "metadata": {},
   "outputs": [
    {
     "name": "stdout",
     "output_type": "stream",
     "text": [
      "dict_keys(['st', 'msd', 'run'])\n",
      "dict_values(['Sachin tendulkar', 'mahindra singh dhoni', 10000])\n",
      "['msd', 'run', 'st']\n"
     ]
    }
   ],
   "source": [
    "#inbuild methods of dictionary\n",
    "dict1={\n",
    "    \"st\":\"Sachin tendulkar\",\n",
    "    \"msd\":\"mahindra singh dhoni\",\n",
    "    \"run\":10000\n",
    "}\n",
    "\n",
    "print(dict1.keys())\n",
    "print(dict1.values())\n",
    "\n",
    "#sorting keys and return the dictionary..\n",
    "print(sorted(dict1))"
   ]
  },
  {
   "cell_type": "code",
   "execution_count": 77,
   "metadata": {},
   "outputs": [
    {
     "name": "stdout",
     "output_type": "stream",
     "text": [
      "2 : 4\n",
      "3 : 9\n",
      "5 : 25\n",
      "12 : 144\n"
     ]
    }
   ],
   "source": [
    "dict1={1:2, 2:4, 3:9, 4:8 , 5:25 , 12:144 , 13:191}\n",
    "for x in dict1:\n",
    "    if dict1[x]==x*x and x<=12:\n",
    "        print(x, \":\", dict1[x])\n"
   ]
  },
  {
   "cell_type": "code",
   "execution_count": 71,
   "metadata": {},
   "outputs": [
    {
     "name": "stdout",
     "output_type": "stream",
     "text": [
      "sachin\n",
      "\n",
      "sachin\n",
      "sourav\n",
      "Dhoni\n"
     ]
    }
   ],
   "source": [
    "#creating tupple\n",
    "tuple1=(\"sachin\", \"sourav\", \"Dhoni\")\n",
    "print(tuple1[0])\n",
    "print()\n",
    "\n",
    "for x in tuple1:\n",
    "    print(x)"
   ]
  },
  {
   "cell_type": "code",
   "execution_count": 74,
   "metadata": {},
   "outputs": [
    {
     "name": "stdout",
     "output_type": "stream",
     "text": [
      "tup1[0]: physics\n",
      "tup2[1:5]: (2, 3, 4, 5)\n"
     ]
    }
   ],
   "source": [
    "### TUPLE is ordered\n",
    "tup1=('physics', 'chemistry', 1997, 2000)\n",
    "tup2=(1,2,3,4,5,6,7)\n",
    "print(\"tup1[0]:\", tup1[0])\n",
    "print(\"tup2[1:5]:\", tup2[1:5])"
   ]
  },
  {
   "cell_type": "code",
   "execution_count": 76,
   "metadata": {},
   "outputs": [
    {
     "name": "stdout",
     "output_type": "stream",
     "text": [
      "(4, 8, 5)\n",
      "17\n"
     ]
    }
   ],
   "source": [
    "# unpack a tuple in several variables\n",
    "tuplex=4,8,5\n",
    "print(tuplex)\n",
    "\n",
    "n1,n2,n3= tuplex\n",
    "#unpack a tuple into variables \n",
    "print(n1+n2+n3)\n",
    "\n",
    "## the number of variables must be equal to the number of elements inside the tuple\n",
    "#n1,n2,n3=tuplex"
   ]
  },
  {
   "cell_type": "code",
   "execution_count": 78,
   "metadata": {},
   "outputs": [],
   "source": [
    "###### NUMPY,it stands for numeric python.(terms: objects modules)"
   ]
  },
  {
   "cell_type": "code",
   "execution_count": 80,
   "metadata": {},
   "outputs": [
    {
     "name": "stdout",
     "output_type": "stream",
     "text": [
      "[1 2 3]\n",
      "<class 'numpy.ndarray'>\n",
      "int32\n",
      "1\n"
     ]
    }
   ],
   "source": [
    "#import the module numpy\n",
    "import numpy as np\n",
    "#1d array\n",
    "arr1=np.array([1,2,3])\n",
    "print(arr1)\n",
    "print(type(arr1))\n",
    "print(arr1.dtype)\n",
    "print(arr1[0])"
   ]
  },
  {
   "cell_type": "code",
   "execution_count": null,
   "metadata": {},
   "outputs": [],
   "source": []
  }
 ],
 "metadata": {
  "kernelspec": {
   "display_name": "Python 3",
   "language": "python",
   "name": "python3"
  },
  "language_info": {
   "codemirror_mode": {
    "name": "ipython",
    "version": 3
   },
   "file_extension": ".py",
   "mimetype": "text/x-python",
   "name": "python",
   "nbconvert_exporter": "python",
   "pygments_lexer": "ipython3",
   "version": "3.7.4"
  }
 },
 "nbformat": 4,
 "nbformat_minor": 2
}
