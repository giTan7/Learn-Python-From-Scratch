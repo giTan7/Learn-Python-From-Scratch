{
 "cells": [
  {
   "cell_type": "code",
   "execution_count": 2,
   "metadata": {},
   "outputs": [
    {
     "name": "stdout",
     "output_type": "stream",
     "text": [
      "97\n",
      "0\n",
      "2\n",
      "3\n",
      "5\n",
      "7\n",
      "11\n",
      "13\n",
      "17\n",
      "19\n",
      "23\n",
      "29\n",
      "31\n",
      "37\n",
      "41\n",
      "43\n",
      "47\n",
      "53\n",
      "59\n",
      "61\n",
      "67\n",
      "71\n",
      "73\n",
      "79\n",
      "83\n",
      "89\n"
     ]
    }
   ],
   "source": [
    "# assignment\n",
    "\n",
    "import random \n",
    "n = random.randint(0,100)\n",
    "print(n)\n",
    "for j in range(0,n):\n",
    "        count=0\n",
    "        for i in range(2,(j//2+1)):\n",
    "            if j%i==0:\n",
    "                count+=1\n",
    "        if(count==0 and j!=1):\n",
    "            print(j)\n",
    "        "
   ]
  },
  {
   "cell_type": "code",
   "execution_count": 19,
   "metadata": {
    "scrolled": true
   },
   "outputs": [
    {
     "name": "stdout",
     "output_type": "stream",
     "text": [
      "enter a string:hello\n",
      "h \n",
      "h e \n",
      "h e l \n",
      "h e l l \n",
      "h e l l o \n"
     ]
    }
   ],
   "source": [
    "s=input(\"enter a string:\")\n",
    "j=1\n",
    "for i in range(0, len(s)):\n",
    "    for j in range(0,i+1):\n",
    "        print(s[j],end=\" \")\n",
    "        j+=1\n",
    "    print()\n",
    "    "
   ]
  },
  {
   "cell_type": "code",
   "execution_count": 40,
   "metadata": {},
   "outputs": [
    {
     "name": "stdout",
     "output_type": "stream",
     "text": [
      "         * \n",
      "       * * \n",
      "     * * * \n",
      "   * * * * \n",
      " * * * * * \n"
     ]
    }
   ],
   "source": [
    "#s=input(\"enter a string: \")\n",
    "# for i in range(len(s),0):\n",
    "#     for j in range(0,i+1):\n",
    "#         print(\" \")\n",
    "#         j-=1\n",
    "#     for k in range(0,i):\n",
    "#         print(s[j],end=\" \")\n",
    "#     print()\n",
    "\n",
    "k = 9\n",
    "for i in range(0, 5):\n",
    "    for j in range(0, k):\n",
    "        print(end=\" \")\n",
    "    k = k - 2\n",
    "    for j in range(0, i+1):\n",
    "        print(\"* \", end=\"\")\n",
    "    print()\n"
   ]
  },
  {
   "cell_type": "code",
   "execution_count": 1,
   "metadata": {},
   "outputs": [
    {
     "name": "stdout",
     "output_type": "stream",
     "text": [
      "                  * \n",
      "                * * * \n",
      "              * * * * * \n",
      "            * * * * * * * \n",
      "          * * * * * * * * * \n",
      "        * * * * * * * * * * * \n",
      "      * * * * * * * * * * * * * \n",
      "    * * * * * * * * * * * * * * * \n",
      "  * * * * * * * * * * * * * * * * * \n",
      "* * * * * * * * * * * * * * * * * * * \n"
     ]
    }
   ],
   "source": [
    "#s=input(\"string: \")\n",
    "k = 0\n",
    "rows = 10\n",
    "for i in range(1, rows+1):\n",
    "    for space in range(1, (rows-i)+1):\n",
    "        print(end=\"  \")\n",
    "    while k != (2*i-1):\n",
    "        print(\"*\", end=\" \")\n",
    "        k = k + 1\n",
    "    k = 0\n",
    "    print()"
   ]
  },
  {
   "cell_type": "code",
   "execution_count": 6,
   "metadata": {},
   "outputs": [
    {
     "name": "stdout",
     "output_type": "stream",
     "text": [
      "3\n",
      "4\n"
     ]
    }
   ],
   "source": [
    "list1=[\"a\",\"bcd\",\"aba\",\"dbcd\"]\n",
    "for x in list1:\n",
    "    l=len(x)\n",
    "    if l>1 and x[0]==x[-1]:\n",
    "        print(len(x))\n",
    "    "
   ]
  },
  {
   "cell_type": "code",
   "execution_count": 11,
   "metadata": {},
   "outputs": [
    {
     "name": "stdout",
     "output_type": "stream",
     "text": [
      "[5]\n"
     ]
    }
   ],
   "source": [
    "list1=[1,2,3,5,3,2]\n",
    "for x in list1:\n",
    "    for y in list1:\n",
    "        if x==y:\n",
    "            list1.remove(y)\n",
    "            \n",
    "print(list1)\n",
    "\n",
    "for x in list1:\n",
    "    "
   ]
  }
 ],
 "metadata": {
  "kernelspec": {
   "display_name": "Python 3",
   "language": "python",
   "name": "python3"
  },
  "language_info": {
   "codemirror_mode": {
    "name": "ipython",
    "version": 3
   },
   "file_extension": ".py",
   "mimetype": "text/x-python",
   "name": "python",
   "nbconvert_exporter": "python",
   "pygments_lexer": "ipython3",
   "version": "3.7.4"
  }
 },
 "nbformat": 4,
 "nbformat_minor": 2
}
