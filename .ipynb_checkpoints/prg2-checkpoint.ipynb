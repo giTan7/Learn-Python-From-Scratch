{
 "cells": [
  {
   "cell_type": "code",
   "execution_count": 2,
   "metadata": {},
   "outputs": [
    {
     "name": "stdout",
     "output_type": "stream",
     "text": [
      "Hello\n",
      "938583488304\n",
      "Hello111\n",
      "938583488240\n",
      "Hello\n",
      "938583488304\n"
     ]
    }
   ],
   "source": [
    "# str\n",
    "s=\"Hello\"\n",
    "print(s)\n",
    "print(id(s))\n",
    "\n",
    "s=\"Hello111\"\n",
    "print(s)\n",
    "print(id(s))\n",
    "\n",
    "s=\"\"\"Hello\"\"\"\n",
    "print(s)\n",
    "print(id(s))"
   ]
  },
  {
   "cell_type": "code",
   "execution_count": 7,
   "metadata": {},
   "outputs": [
    {
     "name": "stdout",
     "output_type": "stream",
     "text": [
      "first character: h\n",
      "0 to upto 2 index: hel\n",
      "1 to 4rth: ello\n",
      "2nd upto -3: llowor\n"
     ]
    }
   ],
   "source": [
    "#string slicing\n",
    "str=\"helloworld\"\n",
    "print(\"first character:\",str[0])\n",
    "print(\"0 to upto 2 index:\",str[:3])\n",
    "print(\"1 to 4rth:\",str[1:5])\n",
    "print(\"2nd upto -3:\", str[2:-2])"
   ]
  },
  {
   "cell_type": "code",
   "execution_count": 10,
   "metadata": {},
   "outputs": [
    {
     "name": "stdout",
     "output_type": "stream",
     "text": [
      "not present\n",
      "present\n"
     ]
    }
   ],
   "source": [
    "#string membership \n",
    "str= \"helloWorld\"\n",
    "if \"q\" in str:\n",
    "    print(\"present\")\n",
    "else:\n",
    "    print(\"not present\")\n",
    "\n",
    "if \"W\" not in str:\n",
    "    print(\"not present\")\n",
    "else:\n",
    "    print(\"present\")"
   ]
  },
  {
   "cell_type": "code",
   "execution_count": 17,
   "metadata": {},
   "outputs": [
    {
     "name": "stdout",
     "output_type": "stream",
     "text": [
      "length:  12\n",
      "strip: Hello World\n",
      "length after striping: 17\n",
      "split the s: ['hello', 'world', 'tannu']\n",
      "split: ['hello', 'world,tannu']\n",
      "no of occurences: 3\n",
      "no of occ from 0 to 5: 2\n"
     ]
    }
   ],
   "source": [
    "#strip the trailing and leading spaces\n",
    "s=\"Hello World \"\n",
    "print(\"length: \", len(s))\n",
    "print(\"strip:\", s.strip())\n",
    "\n",
    "s=\"hello,world,tannu\"\n",
    "print(\"length after striping:\", len(s.strip()))\n",
    "\n",
    "#split\n",
    "print(\"split the s:\", s.split(\",\"))\n",
    "#split upto 1 string=> 2 strings will be generated \n",
    "print(\"split:\", s.split(\",\",1))\n",
    "\n",
    "#count the number of occurences in the string\n",
    "s=\"hello world\"\n",
    "print(\"no of occurences:\", s.count(\"l\"))\n",
    "print(\"no of occ from 0 to 5:\", s.count(\"l\",0,5))"
   ]
  },
  {
   "cell_type": "code",
   "execution_count": 19,
   "metadata": {},
   "outputs": [
    {
     "name": "stdout",
     "output_type": "stream",
     "text": [
      "found or not: 2\n"
     ]
    }
   ],
   "source": [
    "#find character and return the first occurence(match) index from 0to len-1\n",
    "str=\"HelloWrold\"\n",
    "print(\"found or not:\", s.find(\"l\",0,len(str)))"
   ]
  },
  {
   "cell_type": "code",
   "execution_count": 29,
   "metadata": {},
   "outputs": [
    {
     "name": "stdout",
     "output_type": "stream",
     "text": [
      "enter the string:madamm\n",
      "mmadam\n"
     ]
    }
   ],
   "source": [
    "#without slicing, reverse\n",
    "s=input(\"enter the string:\")\n",
    "rev=\"\"\n",
    "l=len(s)\n",
    "i=l-1\n",
    "while i>=0:\n",
    "    rev+=s[i]\n",
    "    i-=1\n",
    "\n",
    "print(rev)\n",
    "\n"
   ]
  },
  {
   "cell_type": "code",
   "execution_count": 30,
   "metadata": {},
   "outputs": [
    {
     "name": "stdout",
     "output_type": "stream",
     "text": [
      "input:hey\n",
      "yeh\n"
     ]
    }
   ],
   "source": [
    "#using slicing\n",
    "s=input(\"input:\")\n",
    "print(s[::-1])\n"
   ]
  },
  {
   "cell_type": "code",
   "execution_count": null,
   "metadata": {},
   "outputs": [],
   "source": []
  }
 ],
 "metadata": {
  "kernelspec": {
   "display_name": "Python 3",
   "language": "python",
   "name": "python3"
  },
  "language_info": {
   "codemirror_mode": {
    "name": "ipython",
    "version": 3
   },
   "file_extension": ".py",
   "mimetype": "text/x-python",
   "name": "python",
   "nbconvert_exporter": "python",
   "pygments_lexer": "ipython3",
   "version": "3.7.4"
  }
 },
 "nbformat": 4,
 "nbformat_minor": 2
}
